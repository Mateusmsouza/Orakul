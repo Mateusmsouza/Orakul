{
  "nbformat": 4,
  "nbformat_minor": 0,
  "metadata": {
    "colab": {
      "name": "FakeNilc.ipynb",
      "provenance": [],
      "collapsed_sections": [],
      "toc_visible": true,
      "authorship_tag": "ABX9TyPNBze5mH2t/AvEBYJN/NQO",
      "include_colab_link": true
    },
    "kernelspec": {
      "name": "python3",
      "display_name": "Python 3"
    },
    "accelerator": "GPU"
  },
  "cells": [
    {
      "cell_type": "markdown",
      "metadata": {
        "id": "view-in-github",
        "colab_type": "text"
      },
      "source": [
        "<a href=\"https://colab.research.google.com/github/Mateusmsouza/Orakul/blob/master/FakeNilc.ipynb\" target=\"_parent\"><img src=\"https://colab.research.google.com/assets/colab-badge.svg\" alt=\"Open In Colab\"/></a>"
      ]
    },
    {
      "cell_type": "markdown",
      "metadata": {
        "id": "8oZOhycIQmNm",
        "colab_type": "text"
      },
      "source": [
        "# 1 - Clonar o Dataset com notícias falsas"
      ]
    },
    {
      "cell_type": "code",
      "metadata": {
        "id": "LMZ2BqMMOy3P",
        "colab_type": "code",
        "colab": {
          "base_uri": "https://localhost:8080/",
          "height": 156
        },
        "outputId": "32ec0005-8904-4f57-aacd-31a39380e210"
      },
      "source": [
        "!git clone https://github.com/roneysco/Fake.br-Corpus.git"
      ],
      "execution_count": 4,
      "outputs": [
        {
          "output_type": "stream",
          "text": [
            "Cloning into 'Fake.br-Corpus'...\n",
            "remote: Enumerating objects: 6, done.\u001b[K\n",
            "remote: Counting objects: 100% (6/6), done.\u001b[K\n",
            "remote: Compressing objects: 100% (6/6), done.\u001b[K\n",
            "remote: Total 28750 (delta 1), reused 0 (delta 0), pack-reused 28744\u001b[K\n",
            "Receiving objects: 100% (28750/28750), 16.65 MiB | 13.39 MiB/s, done.\n",
            "Resolving deltas: 100% (14126/14126), done.\n",
            "Checking out files: 100% (21601/21601), done.\n"
          ],
          "name": "stdout"
        }
      ]
    },
    {
      "cell_type": "markdown",
      "metadata": {
        "id": "FVYIv5MbsKWl",
        "colab_type": "text"
      },
      "source": [
        "# Tratamento dos dados antes de treinar o modelo (Por enquanto não está sendo feito)"
      ]
    },
    {
      "cell_type": "code",
      "metadata": {
        "id": "8VMsT06vyF-F",
        "colab_type": "code",
        "colab": {
          "base_uri": "https://localhost:8080/",
          "height": 34
        },
        "outputId": "676d939a-37b9-40b7-883a-603075da0681"
      },
      "source": [
        "!ls ./Fake.br-Corpus/size_normalized_texts"
      ],
      "execution_count": 6,
      "outputs": [
        {
          "output_type": "stream",
          "text": [
            "fake  true\n"
          ],
          "name": "stdout"
        }
      ]
    },
    {
      "cell_type": "code",
      "metadata": {
        "id": "4GIIv6huQwTm",
        "colab_type": "code",
        "colab": {
          "base_uri": "https://localhost:8080/",
          "height": 34
        },
        "outputId": "1eaa18c8-6450-4619-95d9-a1c8454f4ff1"
      },
      "source": [
        "!ls"
      ],
      "execution_count": 2,
      "outputs": [
        {
          "output_type": "stream",
          "text": [
            "sample_data\n"
          ],
          "name": "stdout"
        }
      ]
    },
    {
      "cell_type": "markdown",
      "metadata": {
        "id": "07IDCPBQx8wI",
        "colab_type": "text"
      },
      "source": [
        "# 2 - Extrair features\n"
      ]
    },
    {
      "cell_type": "code",
      "metadata": {
        "id": "UhfV0RxMyeX7",
        "colab_type": "code",
        "colab": {
          "base_uri": "https://localhost:8080/",
          "height": 86
        },
        "outputId": "12ffde3e-1b10-4a35-dc2f-e6d706b4ec71"
      },
      "source": [
        "import os\n",
        "import pandas as pd\n",
        "\n",
        "def loadFiles(news_directory: str):\n",
        "  print(\"Starting file loading...\")\n",
        "  ids = []\n",
        "  filenames = []\n",
        "  tags = []\n",
        "\n",
        "  # get true news in dir create id path and a tag for each one\n",
        "  for filename in os.listdir(news_directory + '/true'):\n",
        "    ids.append(filename.replace('.txt', '-REAL'))\n",
        "    filenames.append(news_directory + '/true/' + filename)\n",
        "    tags.append('REAL')\n",
        "  \n",
        "  print(\"True news loaded...\")\n",
        "  \n",
        "  # get fake news in dir create id path and a tag for each one\n",
        "  for filename in os.listdir(news_directory + '/fake'):\n",
        "    ids.append(filename.replace('.txt', '-FAKE'))\n",
        "    filenames.append(news_directory + '/fake/' + filename)\n",
        "    tags.append('FAKE')\n",
        "\n",
        "  print(\"Fake news loaded...\")\n",
        "  print(\"File loading complete\")\n",
        "  return ids, filenames, tags\n",
        "\n",
        "def main():\n",
        "  ids, filenames, tags = loadFiles('./Fake.br-Corpus/size_normalized_texts')\n",
        "  ids = pd.DataFrame(ids, columns=['Id'])\n",
        "  tags = pd.DataFrame(tags, columns='Tag')\n",
        "\n",
        "  \n",
        "\n",
        "if __name__ == '__main__':\n",
        "  main()\n"
      ],
      "execution_count": 8,
      "outputs": [
        {
          "output_type": "stream",
          "text": [
            "Starting file loading...\n",
            "True news loaded...\n",
            "Fake news loaded...\n",
            "File loading complete\n"
          ],
          "name": "stdout"
        }
      ]
    },
    {
      "cell_type": "code",
      "metadata": {
        "id": "4PNnCxDxoIsS",
        "colab_type": "code",
        "colab": {}
      },
      "source": [
        ""
      ],
      "execution_count": null,
      "outputs": []
    }
  ]
}